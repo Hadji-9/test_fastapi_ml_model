{
 "cells": [
  {
   "cell_type": "code",
   "execution_count": 2,
   "metadata": {},
   "outputs": [
    {
     "name": "stderr",
     "output_type": "stream",
     "text": [
      "/home/khalil/.local/share/virtualenvs/teaching2022-3-template-yFi5eCT9/lib/python3.7/site-packages/pandas/compat/__init__.py:124: UserWarning: Could not import the lzma module. Your installed Python is incomplete. Attempting to use lzma compression will result in a RuntimeError.\n",
      "  warnings.warn(msg)\n"
     ]
    }
   ],
   "source": [
    "from sklearn.metrics import accuracy_score\n",
    "from sklearn.ensemble import RandomForestClassifier\n",
    "from sklearn.model_selection import train_test_split\n",
    "import numpy as np\n",
    "import pandas as pd\n",
    "from typing import Tuple\n",
    "from sklearn import datasets\n",
    "import pickle\n",
    "iris = datasets.load_iris()\n"
   ]
  },
  {
   "cell_type": "code",
   "execution_count": 13,
   "metadata": {},
   "outputs": [],
   "source": [
    "import numpy as np\n",
    "\n",
    "from bokeh.layouts import gridplot\n",
    "from bokeh.plotting import figure, show\n",
    "\n",
    "\n",
    "def make_plot(title, hist, edges, x):\n",
    "    p = figure(title=title, tools='', background_fill_color=\"#fafafa\")\n",
    "    p.quad(top=hist, bottom=0, left=edges[:-1], right=edges[1:],\n",
    "           fill_color=\"navy\", line_color=\"white\", alpha=0.5)\n",
    "\n",
    "    return p\n",
    "\n",
    "# Normal Distribution\n",
    "\n",
    "mu, sigma = 0, 0.5\n",
    "\n",
    "measured = iris.data\n",
    "hist, edges = np.histogram(measured, density=True, bins=50)\n",
    "\n",
    "\n",
    "p1 = make_plot(\"distribution for \", hist, edges, x)"
   ]
  },
  {
   "cell_type": "code",
   "execution_count": 15,
   "metadata": {},
   "outputs": [
    {
     "name": "stdout",
     "output_type": "stream",
     "text": [
      "Opening in existing browser session.\n"
     ]
    },
    {
     "name": "stderr",
     "output_type": "stream",
     "text": [
      "MESA-INTEL: warning: Performance support disabled, consider sysctl dev.i915.perf_stream_paranoid=0\n",
      "\n"
     ]
    }
   ],
   "source": [
    "plots = []\n",
    "df = pd.DataFrame(iris.data, columns=iris.feature_names)\n",
    "for feature in iris.feature_names:\n",
    "    data = df[feature]\n",
    "    hist, edges = np.histogram(data, density=True, bins=10)\n",
    "    plot = make_plot(f\"distribution for {feature}\", hist, edges, x)\n",
    "    plots.append(plot)\n",
    "show(gridplot(plots, ncols=2, width=400, height=400, toolbar_location=None))\n"
   ]
  },
  {
   "cell_type": "code",
   "execution_count": 9,
   "metadata": {},
   "outputs": [
    {
     "name": "stdout",
     "output_type": "stream",
     "text": [
      "Opening in existing browser session.\n"
     ]
    },
    {
     "name": "stderr",
     "output_type": "stream",
     "text": [
      "MESA-INTEL: warning: Performance support disabled, consider sysctl dev.i915.perf_stream_paranoid=0\n",
      "\n"
     ]
    }
   ],
   "source": []
  },
  {
   "cell_type": "code",
   "execution_count": null,
   "metadata": {},
   "outputs": [],
   "source": []
  }
 ],
 "metadata": {
  "kernelspec": {
   "display_name": "teaching2022-3-template-yFi5eCT9",
   "language": "python",
   "name": "python3"
  },
  "language_info": {
   "codemirror_mode": {
    "name": "ipython",
    "version": 3
   },
   "file_extension": ".py",
   "mimetype": "text/x-python",
   "name": "python",
   "nbconvert_exporter": "python",
   "pygments_lexer": "ipython3",
   "version": "3.8.16 (default, Dec  7 2022, 01:12:06) \n[GCC 11.3.0]"
  },
  "orig_nbformat": 4,
  "vscode": {
   "interpreter": {
    "hash": "4e59d4927a021dd8c65de4eb3990664e9dcb41f2ccee23ee0cf2acfe5524a6f1"
   }
  }
 },
 "nbformat": 4,
 "nbformat_minor": 2
}
